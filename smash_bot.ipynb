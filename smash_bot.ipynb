{
 "cells": [
  {
   "cell_type": "code",
   "execution_count": 1,
   "metadata": {},
   "outputs": [],
   "source": [
    "from selenium import webdriver"
   ]
  },
  {
   "cell_type": "code",
   "execution_count": 2,
   "metadata": {},
   "outputs": [],
   "source": [
    "import datetime, re, requests, io, time, random, string"
   ]
  },
  {
   "cell_type": "code",
   "execution_count": 3,
   "metadata": {},
   "outputs": [],
   "source": [
    "from bs4 import BeautifulSoup"
   ]
  },
  {
   "cell_type": "code",
   "execution_count": 4,
   "metadata": {},
   "outputs": [],
   "source": [
    "driver = webdriver.Chrome('/Users/generalassembly/Downloads/chromedriver')"
   ]
  },
  {
   "cell_type": "code",
   "execution_count": 11,
   "metadata": {},
   "outputs": [],
   "source": [
    "driver.get('https://www.ssbwiki.com/Fighter')"
   ]
  },
  {
   "cell_type": "code",
   "execution_count": 23,
   "metadata": {},
   "outputs": [
    {
     "name": "stdout",
     "output_type": "stream",
     "text": [
      "On the fighters page\n"
     ]
    },
    {
     "data": {
      "text/plain": [
       "['Banjo & Kazooie Banjo-Kazooie',\n",
       " 'Bayonetta Bayonetta',\n",
       " 'Bowser Mario',\n",
       " 'Bowser Jr.[3] Mario',\n",
       " 'Byleth[4] Fire Emblem',\n",
       " 'Captain Falcon F-Zero',\n",
       " 'Charizard Pokémon [5] [5]',\n",
       " 'Chrom Fire Emblem',\n",
       " 'Cloud Final Fantasy',\n",
       " 'Corrin[4] Fire Emblem',\n",
       " 'Daisy Mario',\n",
       " 'Dark Pit Kid Icarus',\n",
       " 'Dark Samus Metroid',\n",
       " 'Diddy Kong Donkey Kong',\n",
       " 'Donkey Kong Donkey Kong',\n",
       " 'Dr. Mario Mario',\n",
       " 'Duck Hunt[6] Duck Hunt',\n",
       " 'Falco Star Fox',\n",
       " 'Fox Star Fox',\n",
       " 'Ganondorf The Legend of Zelda',\n",
       " 'Greninja Pokémon',\n",
       " 'Hero[7] Dragon Quest',\n",
       " 'Ice Climbers Ice Climber',\n",
       " 'Ike Fire Emblem',\n",
       " 'Incineroar Pokémon',\n",
       " 'Inkling[4] Splatoon',\n",
       " 'Isabelle Animal Crossing',\n",
       " 'Ivysaur[5] Pokémon',\n",
       " 'Jigglypuff Pokémon',\n",
       " 'Joker Persona',\n",
       " 'Ken Street Fighter',\n",
       " 'King Dedede Kirby',\n",
       " 'King K. Rool Donkey Kong',\n",
       " 'Kirby Kirby',\n",
       " 'Link The Legend of Zelda',\n",
       " 'Little Mac Punch-Out!!',\n",
       " 'Lucario Pokémon',\n",
       " 'Lucas EarthBound',\n",
       " 'Lucina Fire Emblem',\n",
       " 'Luigi Mario',\n",
       " 'Mario Mario',\n",
       " 'Marth Fire Emblem',\n",
       " 'Mega Man Mega Man',\n",
       " 'Meta Knight Kirby',\n",
       " 'Mewtwo Pokémon',\n",
       " 'Mii Brawler Super Smash Bros.',\n",
       " 'Mii Gunner Super Smash Bros.',\n",
       " 'Mii Swordfighter[8] Super Smash Bros.',\n",
       " 'Min Min ARMS',\n",
       " 'Mr. Game & Watch Game & Watch',\n",
       " 'Ness EarthBound',\n",
       " 'Olimar Pikmin [9] [9]',\n",
       " 'Pac-Man Pac-Man',\n",
       " 'Palutena Kid Icarus',\n",
       " 'Peach Mario',\n",
       " 'Pichu Pokémon',\n",
       " 'Pikachu Pokémon',\n",
       " 'Piranha Plant Mario',\n",
       " 'Pit Kid Icarus',\n",
       " 'Pokémon Trainer[5] Pokémon [4]',\n",
       " 'R.O.B. R.O.B. [10] [10]',\n",
       " 'Richter Castlevania',\n",
       " 'Ridley Metroid',\n",
       " 'Robin[4] Fire Emblem',\n",
       " 'Rosalina & Luma Mario',\n",
       " 'Roy Fire Emblem',\n",
       " 'Ryu Street Fighter',\n",
       " 'Samus Metroid [11]',\n",
       " 'Sheik The Legend of Zelda [12] [12]',\n",
       " 'Shulk Xenoblade Chronicles',\n",
       " 'Simon Castlevania',\n",
       " 'Snake Metal Gear',\n",
       " 'Sonic Sonic the Hedgehog',\n",
       " 'Squirtle[5] Pokémon',\n",
       " 'Terry Fatal Fury',\n",
       " 'Toon Link The Legend of Zelda',\n",
       " 'Villager[4] Animal Crossing',\n",
       " 'Wario Wario',\n",
       " 'Wii Fit Trainer[4] Wii Fit',\n",
       " 'Wolf Star Fox',\n",
       " 'Yoshi Yoshi',\n",
       " 'Young Link The Legend of Zelda',\n",
       " 'Zelda The Legend of Zelda [12] [12]',\n",
       " 'Zero Suit Samus Metroid [11]']"
      ]
     },
     "execution_count": 23,
     "metadata": {},
     "output_type": "execute_result"
    }
   ],
   "source": [
    "if 'List of fighters' in driver.page_source:\n",
    "    print('On the fighters page')\n",
    "    fighter_table = driver.find_element_by_xpath('//*[@id=\"mw-content-text\"]/table/tbody/tr/td[1]/div/table[2]/tbody').text\n",
    "fighter_table.split('\\n')"
   ]
  },
  {
   "cell_type": "code",
   "execution_count": null,
   "metadata": {},
   "outputs": [],
   "source": []
  }
 ],
 "metadata": {
  "kernelspec": {
   "display_name": "Python 3",
   "language": "python",
   "name": "python3"
  },
  "language_info": {
   "codemirror_mode": {
    "name": "ipython",
    "version": 3
   },
   "file_extension": ".py",
   "mimetype": "text/x-python",
   "name": "python",
   "nbconvert_exporter": "python",
   "pygments_lexer": "ipython3",
   "version": "3.8.5"
  }
 },
 "nbformat": 4,
 "nbformat_minor": 4
}
