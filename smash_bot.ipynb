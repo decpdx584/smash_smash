{
 "cells": [
  {
   "cell_type": "code",
   "execution_count": 1,
   "metadata": {},
   "outputs": [],
   "source": [
    "from selenium import webdriver"
   ]
  },
  {
   "cell_type": "code",
   "execution_count": 2,
   "metadata": {},
   "outputs": [],
   "source": [
    "import datetime, re, requests, io, time, random, string"
   ]
  },
  {
   "cell_type": "code",
   "execution_count": 3,
   "metadata": {},
   "outputs": [],
   "source": [
    "from bs4 import BeautifulSoup"
   ]
  },
  {
   "cell_type": "code",
   "execution_count": 26,
   "metadata": {},
   "outputs": [],
   "source": [
    "import pandas as pd"
   ]
  },
  {
   "cell_type": "code",
   "execution_count": 13,
   "metadata": {},
   "outputs": [],
   "source": [
    "driver = webdriver.Chrome('/Users/generalassembly/Downloads/chromedriver')"
   ]
  },
  {
   "cell_type": "code",
   "execution_count": 43,
   "metadata": {
    "scrolled": false
   },
   "outputs": [
    {
     "name": "stdout",
     "output_type": "stream",
     "text": [
      "Banjo-Kazooie\n",
      "Bayonetta\n",
      "Mario\n",
      "Mario\n",
      "Fire Emblem\n",
      "F-Zero\n",
      "Pokémon\n",
      "Fire Emblem\n",
      "Final Fantasy\n",
      "Fire Emblem\n",
      "Mario\n",
      "Kid Icarus\n",
      "Metroid\n",
      "Donkey Kong\n",
      "Donkey Kong\n",
      "Mario\n",
      "Duck Hunt\n",
      "Star Fox\n",
      "Star Fox\n",
      "The Legend of Zelda\n",
      "Pokémon\n",
      "Dragon Quest\n",
      "Ice Climber\n",
      "Fire Emblem\n",
      "Pokémon\n",
      "Splatoon\n",
      "Animal Crossing\n",
      "Pokémon\n",
      "Pokémon\n",
      "Persona\n",
      "Street Fighter\n",
      "Kirby\n",
      "Donkey Kong\n",
      "Kirby\n",
      "The Legend of Zelda\n",
      "Punch-Out!!\n",
      "Pokémon\n",
      "EarthBound\n",
      "Fire Emblem\n",
      "Mario\n",
      "Mario\n",
      "Fire Emblem\n",
      "Mega Man\n",
      "Kirby\n",
      "Pokémon\n",
      "Super Smash Bros.\n",
      "Super Smash Bros.\n",
      "Super Smash Bros.\n",
      "ARMS\n",
      "Game & Watch\n",
      "EarthBound\n",
      "Pikmin\n",
      "Pac-Man\n",
      "Kid Icarus\n",
      "Mario\n",
      "Pokémon\n",
      "Pokémon\n",
      "Mario\n",
      "Kid Icarus\n",
      "Pokémon\n",
      "R.O.B.\n",
      "Castlevania\n",
      "Metroid\n",
      "Fire Emblem\n",
      "Mario\n",
      "Fire Emblem\n",
      "Street Fighter\n",
      "Metroid\n",
      "The Legend of Zelda\n",
      "Xenoblade\n",
      "Castlevania\n",
      "Metal Gear\n",
      "Sonic\n",
      "Pokémon\n",
      "Fatal Fury\n",
      "The Legend of Zelda\n",
      "Animal Crossing\n",
      "Wario\n",
      "Wii Fit\n",
      "Star Fox\n",
      "Yoshi\n",
      "The Legend of Zelda\n",
      "The Legend of Zelda\n",
      "Metroid\n"
     ]
    }
   ],
   "source": [
    "page = requests.get('https://www.ssbwiki.com/Fighter')\n",
    "soup = BeautifulSoup(page.content, 'html.parser')\n",
    "tables = soup.find_all(\"table\")\n",
    "fighter_table = tables[2]\n",
    "tab_data = [[cell.text for cell in row.find_all([\"th\",\"td\"])]\n",
    "                        for row in fighter_table.find_all(\"tr\")]\n",
    "fighter_list = tab_data[1:-3]\n",
    "names = []\n",
    "for i in range(len(fighter_list)):\n",
    "    fighter = fighter_list[i]\n",
    "    fighter_name = fighter[0].replace('\\n', '')\n",
    "    names.append(fighter_name)\n",
    "    \n",
    "final_names = []\n",
    "for i in range(len(names)):\n",
    "    name = names[i]\n",
    "    if name[-1] == ']':\n",
    "        final_names.append(name[:-3])\n",
    "    else:\n",
    "        final_names.append(name)\n",
    "    r = requests.get(f'https://www.ssbwiki.com/{final_names[i]}_(SSBU)')\n",
    "    soup = BeautifulSoup(r.content, 'html.parser')\n",
    "    uni = soup.select('a[title*=\"\\(universe\\)\"]')\n",
    "    print(uni[0].getText())\n",
    "    time.sleep(2)"
   ]
  },
  {
   "cell_type": "code",
   "execution_count": 15,
   "metadata": {
    "scrolled": true
   },
   "outputs": [
    {
     "ename": "WebDriverException",
     "evalue": "Message: chrome not reachable\n  (Session info: chrome=85.0.4183.121)\n",
     "output_type": "error",
     "traceback": [
      "\u001b[0;31m---------------------------------------------------------------------------\u001b[0m",
      "\u001b[0;31mWebDriverException\u001b[0m                        Traceback (most recent call last)",
      "\u001b[0;32m<ipython-input-15-1c049eea2514>\u001b[0m in \u001b[0;36m<module>\u001b[0;34m\u001b[0m\n\u001b[1;32m      4\u001b[0m \u001b[0;31m#         driver.get(f'https://www.ssbwiki.com/{modAmp}_(SSBU)')\u001b[0m\u001b[0;34m\u001b[0m\u001b[0;34m\u001b[0m\u001b[0;34m\u001b[0m\u001b[0m\n\u001b[1;32m      5\u001b[0m \u001b[0;31m#     else:\u001b[0m\u001b[0;34m\u001b[0m\u001b[0;34m\u001b[0m\u001b[0;34m\u001b[0m\u001b[0m\n\u001b[0;32m----> 6\u001b[0;31m     \u001b[0mdriver\u001b[0m\u001b[0;34m.\u001b[0m\u001b[0mget\u001b[0m\u001b[0;34m(\u001b[0m\u001b[0;34mf'https://www.ssbwiki.com/{final_names[i]}_(SSBU)'\u001b[0m\u001b[0;34m)\u001b[0m\u001b[0;34m\u001b[0m\u001b[0;34m\u001b[0m\u001b[0m\n\u001b[0m\u001b[1;32m      7\u001b[0m \u001b[0;31m#     stat_soup = BeautifulSoup(r.content)\u001b[0m\u001b[0;34m\u001b[0m\u001b[0;34m\u001b[0m\u001b[0;34m\u001b[0m\u001b[0m\n\u001b[1;32m      8\u001b[0m \u001b[0;31m#     tables = stat_soup.find_all('table', {'class': 'infobox'})\u001b[0m\u001b[0;34m\u001b[0m\u001b[0;34m\u001b[0m\u001b[0;34m\u001b[0m\u001b[0m\n",
      "\u001b[0;32m/usr/local/lib/python3.8/site-packages/selenium/webdriver/remote/webdriver.py\u001b[0m in \u001b[0;36mget\u001b[0;34m(self, url)\u001b[0m\n\u001b[1;32m    331\u001b[0m         \u001b[0mLoads\u001b[0m \u001b[0ma\u001b[0m \u001b[0mweb\u001b[0m \u001b[0mpage\u001b[0m \u001b[0;32min\u001b[0m \u001b[0mthe\u001b[0m \u001b[0mcurrent\u001b[0m \u001b[0mbrowser\u001b[0m \u001b[0msession\u001b[0m\u001b[0;34m.\u001b[0m\u001b[0;34m\u001b[0m\u001b[0;34m\u001b[0m\u001b[0m\n\u001b[1;32m    332\u001b[0m         \"\"\"\n\u001b[0;32m--> 333\u001b[0;31m         \u001b[0mself\u001b[0m\u001b[0;34m.\u001b[0m\u001b[0mexecute\u001b[0m\u001b[0;34m(\u001b[0m\u001b[0mCommand\u001b[0m\u001b[0;34m.\u001b[0m\u001b[0mGET\u001b[0m\u001b[0;34m,\u001b[0m \u001b[0;34m{\u001b[0m\u001b[0;34m'url'\u001b[0m\u001b[0;34m:\u001b[0m \u001b[0murl\u001b[0m\u001b[0;34m}\u001b[0m\u001b[0;34m)\u001b[0m\u001b[0;34m\u001b[0m\u001b[0;34m\u001b[0m\u001b[0m\n\u001b[0m\u001b[1;32m    334\u001b[0m \u001b[0;34m\u001b[0m\u001b[0m\n\u001b[1;32m    335\u001b[0m     \u001b[0;34m@\u001b[0m\u001b[0mproperty\u001b[0m\u001b[0;34m\u001b[0m\u001b[0;34m\u001b[0m\u001b[0m\n",
      "\u001b[0;32m/usr/local/lib/python3.8/site-packages/selenium/webdriver/remote/webdriver.py\u001b[0m in \u001b[0;36mexecute\u001b[0;34m(self, driver_command, params)\u001b[0m\n\u001b[1;32m    319\u001b[0m         \u001b[0mresponse\u001b[0m \u001b[0;34m=\u001b[0m \u001b[0mself\u001b[0m\u001b[0;34m.\u001b[0m\u001b[0mcommand_executor\u001b[0m\u001b[0;34m.\u001b[0m\u001b[0mexecute\u001b[0m\u001b[0;34m(\u001b[0m\u001b[0mdriver_command\u001b[0m\u001b[0;34m,\u001b[0m \u001b[0mparams\u001b[0m\u001b[0;34m)\u001b[0m\u001b[0;34m\u001b[0m\u001b[0;34m\u001b[0m\u001b[0m\n\u001b[1;32m    320\u001b[0m         \u001b[0;32mif\u001b[0m \u001b[0mresponse\u001b[0m\u001b[0;34m:\u001b[0m\u001b[0;34m\u001b[0m\u001b[0;34m\u001b[0m\u001b[0m\n\u001b[0;32m--> 321\u001b[0;31m             \u001b[0mself\u001b[0m\u001b[0;34m.\u001b[0m\u001b[0merror_handler\u001b[0m\u001b[0;34m.\u001b[0m\u001b[0mcheck_response\u001b[0m\u001b[0;34m(\u001b[0m\u001b[0mresponse\u001b[0m\u001b[0;34m)\u001b[0m\u001b[0;34m\u001b[0m\u001b[0;34m\u001b[0m\u001b[0m\n\u001b[0m\u001b[1;32m    322\u001b[0m             response['value'] = self._unwrap_value(\n\u001b[1;32m    323\u001b[0m                 response.get('value', None))\n",
      "\u001b[0;32m/usr/local/lib/python3.8/site-packages/selenium/webdriver/remote/errorhandler.py\u001b[0m in \u001b[0;36mcheck_response\u001b[0;34m(self, response)\u001b[0m\n\u001b[1;32m    240\u001b[0m                 \u001b[0malert_text\u001b[0m \u001b[0;34m=\u001b[0m \u001b[0mvalue\u001b[0m\u001b[0;34m[\u001b[0m\u001b[0;34m'alert'\u001b[0m\u001b[0;34m]\u001b[0m\u001b[0;34m.\u001b[0m\u001b[0mget\u001b[0m\u001b[0;34m(\u001b[0m\u001b[0;34m'text'\u001b[0m\u001b[0;34m)\u001b[0m\u001b[0;34m\u001b[0m\u001b[0;34m\u001b[0m\u001b[0m\n\u001b[1;32m    241\u001b[0m             \u001b[0;32mraise\u001b[0m \u001b[0mexception_class\u001b[0m\u001b[0;34m(\u001b[0m\u001b[0mmessage\u001b[0m\u001b[0;34m,\u001b[0m \u001b[0mscreen\u001b[0m\u001b[0;34m,\u001b[0m \u001b[0mstacktrace\u001b[0m\u001b[0;34m,\u001b[0m \u001b[0malert_text\u001b[0m\u001b[0;34m)\u001b[0m\u001b[0;34m\u001b[0m\u001b[0;34m\u001b[0m\u001b[0m\n\u001b[0;32m--> 242\u001b[0;31m         \u001b[0;32mraise\u001b[0m \u001b[0mexception_class\u001b[0m\u001b[0;34m(\u001b[0m\u001b[0mmessage\u001b[0m\u001b[0;34m,\u001b[0m \u001b[0mscreen\u001b[0m\u001b[0;34m,\u001b[0m \u001b[0mstacktrace\u001b[0m\u001b[0;34m)\u001b[0m\u001b[0;34m\u001b[0m\u001b[0;34m\u001b[0m\u001b[0m\n\u001b[0m\u001b[1;32m    243\u001b[0m \u001b[0;34m\u001b[0m\u001b[0m\n\u001b[1;32m    244\u001b[0m     \u001b[0;32mdef\u001b[0m \u001b[0m_value_or_default\u001b[0m\u001b[0;34m(\u001b[0m\u001b[0mself\u001b[0m\u001b[0;34m,\u001b[0m \u001b[0mobj\u001b[0m\u001b[0;34m,\u001b[0m \u001b[0mkey\u001b[0m\u001b[0;34m,\u001b[0m \u001b[0mdefault\u001b[0m\u001b[0;34m)\u001b[0m\u001b[0;34m:\u001b[0m\u001b[0;34m\u001b[0m\u001b[0;34m\u001b[0m\u001b[0m\n",
      "\u001b[0;31mWebDriverException\u001b[0m: Message: chrome not reachable\n  (Session info: chrome=85.0.4183.121)\n"
     ]
    }
   ],
   "source": [
    "for i in range(len(final_names)):\n",
    "#     if ' & ' in final_names[i]:\n",
    "#         modAmp = final_names[i].replace(' & ', '_%26_')\n",
    "#         driver.get(f'https://www.ssbwiki.com/{modAmp}_(SSBU)')\n",
    "#     else:\n",
    "    driver.get(f'https://www.ssbwiki.com/{final_names[i]}_(SSBU)')\n",
    "#     stat_soup = BeautifulSoup(r.content)\n",
    "#     tables = stat_soup.find_all('table', {'class': 'infobox'})\n",
    "#     print(tables)\n",
    "   \n",
    "    \n",
    "    universe = driver.find_element_by_xpath('//*[@id=\"mw-content-text\"]/table/tbody/tr/td[1]/div/table[1]/tbody/tr[3]/td[2]/a/i')\n",
    "#     fighter_soup = BeautifulSoup(fighter_page.content, 'html.parser')\n",
    "#     tab = fighter_soup.find_all('table', class_='infobox bordered')\n",
    "    print(universe)\n",
    "#     universe = tab.find('td', title_='universe')\n",
    "    \n",
    "#     print(f'{final_names[i]}!')\n",
    "    time.sleep(2)\n"
   ]
  },
  {
   "cell_type": "code",
   "execution_count": null,
   "metadata": {},
   "outputs": [],
   "source": []
  }
 ],
 "metadata": {
  "kernelspec": {
   "display_name": "Python 3",
   "language": "python",
   "name": "python3"
  },
  "language_info": {
   "codemirror_mode": {
    "name": "ipython",
    "version": 3
   },
   "file_extension": ".py",
   "mimetype": "text/x-python",
   "name": "python",
   "nbconvert_exporter": "python",
   "pygments_lexer": "ipython3",
   "version": "3.8.5"
  }
 },
 "nbformat": 4,
 "nbformat_minor": 4
}
