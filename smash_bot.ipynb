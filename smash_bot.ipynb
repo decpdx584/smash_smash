{
 "cells": [
  {
   "cell_type": "code",
   "execution_count": 1,
   "metadata": {},
   "outputs": [],
   "source": [
    "from selenium import webdriver"
   ]
  },
  {
   "cell_type": "code",
   "execution_count": 2,
   "metadata": {},
   "outputs": [],
   "source": [
    "import datetime, re, requests, io, time, random, string"
   ]
  },
  {
   "cell_type": "code",
   "execution_count": 3,
   "metadata": {},
   "outputs": [],
   "source": [
    "from bs4 import BeautifulSoup"
   ]
  },
  {
   "cell_type": "code",
   "execution_count": 4,
   "metadata": {},
   "outputs": [],
   "source": [
    "import pandas as pd"
   ]
  },
  {
   "cell_type": "code",
   "execution_count": 5,
   "metadata": {},
   "outputs": [],
   "source": [
    "driver = webdriver.Chrome('/Users/generalassembly/Downloads/chromedriver')"
   ]
  },
  {
   "cell_type": "code",
   "execution_count": 5,
   "metadata": {},
   "outputs": [],
   "source": [
    "driver.get('https://www.ssbwiki.com/Fighter')"
   ]
  },
  {
   "cell_type": "code",
   "execution_count": 12,
   "metadata": {},
   "outputs": [
    {
     "data": {
      "text/plain": [
       "['Banjo & Kazooie',\n",
       " 'Bayonetta',\n",
       " 'Bowser',\n",
       " 'Bowser Jr.',\n",
       " 'Byleth',\n",
       " 'Captain Falcon',\n",
       " 'Charizard',\n",
       " 'Chrom',\n",
       " 'Cloud',\n",
       " 'Corrin',\n",
       " 'Daisy',\n",
       " 'Dark Pit',\n",
       " 'Dark Samus',\n",
       " 'Diddy Kong',\n",
       " 'Donkey Kong',\n",
       " 'Dr. Mario',\n",
       " 'Duck Hunt',\n",
       " 'Falco',\n",
       " 'Fox',\n",
       " 'Ganondorf',\n",
       " 'Greninja',\n",
       " 'Hero',\n",
       " 'Ice Climbers',\n",
       " 'Ike',\n",
       " 'Incineroar',\n",
       " 'Inkling',\n",
       " 'Isabelle',\n",
       " 'Ivysaur',\n",
       " 'Jigglypuff',\n",
       " 'Joker',\n",
       " 'Ken',\n",
       " 'King Dedede',\n",
       " 'King K. Rool',\n",
       " 'Kirby',\n",
       " 'Link',\n",
       " 'Little Mac',\n",
       " 'Lucario',\n",
       " 'Lucas',\n",
       " 'Lucina',\n",
       " 'Luigi',\n",
       " 'Mario',\n",
       " 'Marth',\n",
       " 'Mega Man',\n",
       " 'Meta Knight',\n",
       " 'Mewtwo',\n",
       " 'Mii Brawler',\n",
       " 'Mii Gunner',\n",
       " 'Mii Swordfighter',\n",
       " 'Min Min',\n",
       " 'Mr. Game & Watch',\n",
       " 'Ness',\n",
       " 'Olimar',\n",
       " 'Pac-Man',\n",
       " 'Palutena',\n",
       " 'Peach',\n",
       " 'Pichu',\n",
       " 'Pikachu',\n",
       " 'Piranha Plant',\n",
       " 'Pit',\n",
       " 'Pokémon Trainer',\n",
       " 'R.O.B.',\n",
       " 'Richter',\n",
       " 'Ridley',\n",
       " 'Robin',\n",
       " 'Rosalina & Luma',\n",
       " 'Roy',\n",
       " 'Ryu',\n",
       " 'Samus',\n",
       " 'Sheik',\n",
       " 'Shulk',\n",
       " 'Simon',\n",
       " 'Snake',\n",
       " 'Sonic',\n",
       " 'Squirtle',\n",
       " 'Terry',\n",
       " 'Toon Link',\n",
       " 'Villager',\n",
       " 'Wario',\n",
       " 'Wii Fit Trainer',\n",
       " 'Wolf',\n",
       " 'Yoshi',\n",
       " 'Young Link',\n",
       " 'Zelda',\n",
       " 'Zero Suit Samus']"
      ]
     },
     "execution_count": 12,
     "metadata": {},
     "output_type": "execute_result"
    }
   ],
   "source": [
    "page = requests.get('https://www.ssbwiki.com/Fighter')\n",
    "soup = BeautifulSoup(page.content, 'html.parser')\n",
    "tables = soup.find_all(\"table\")\n",
    "fighter_table = tables[2]\n",
    "tab_data = [[cell.text for cell in row.find_all([\"th\",\"td\"])]\n",
    "                        for row in fighter_table.find_all(\"tr\")]\n",
    "df = pd.DataFrame(tab_data)\n",
    "fighter_list = tab_data[1:-3]\n",
    "names = []\n",
    "for i in range(len(fighter_list)):\n",
    "    fighter = fighter_list[i]\n",
    "    fighter_name = fighter[0].replace('\\n', '')\n",
    "    names.append(fighter_name)\n",
    "names\n",
    "final_names = []\n",
    "for i in range(len(names)):\n",
    "    name = names[i]\n",
    "    if name[-1] == ']':\n",
    "        final_names.append(name[:-3])\n",
    "    else:\n",
    "        final_names.append(name)\n",
    "final_names\n",
    "    "
   ]
  },
  {
   "cell_type": "code",
   "execution_count": null,
   "metadata": {},
   "outputs": [],
   "source": []
  }
 ],
 "metadata": {
  "kernelspec": {
   "display_name": "Python 3",
   "language": "python",
   "name": "python3"
  },
  "language_info": {
   "codemirror_mode": {
    "name": "ipython",
    "version": 3
   },
   "file_extension": ".py",
   "mimetype": "text/x-python",
   "name": "python",
   "nbconvert_exporter": "python",
   "pygments_lexer": "ipython3",
   "version": "3.8.5"
  }
 },
 "nbformat": 4,
 "nbformat_minor": 4
}
